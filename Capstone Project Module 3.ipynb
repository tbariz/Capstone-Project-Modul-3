{
 "cells": [
  {
   "cell_type": "markdown",
   "id": "c2ef6c42",
   "metadata": {},
   "source": [
    "# Capstone Project Module 3 - Customer Lifetime Value Prediction\n",
    "\n",
    "**Nama:** Taufiq Bariz  \n",
    "\n",
    "---\n",
    "\n",
    "### 📘 Deskripsi Singkat\n",
    "Proyek ini bertujuan untuk membangun model machine learning yang dapat memprediksi **Customer Lifetime Value (CLV)** berdasarkan data pelanggan. CLV adalah estimasi nilai total keuntungan yang dihasilkan dari seorang pelanggan selama hubungan bisnis berlangsung.\n",
    "\n",
    "Model ini dapat membantu tim marketing dalam **menentukan pelanggan bernilai tinggi**, mengoptimalkan **strategi retensi pelanggan**, dan **meningkatkan efisiensi biaya promosi**.\n"
   ]
  },
  {
   "cell_type": "markdown",
   "id": "f4330fc6",
   "metadata": {},
   "source": [
    "## 💼 Business Problem & Data Understanding\n",
    "\n",
    "### 🧩 Business Context\n",
    "Sebuah perusahaan ingin memahami seberapa besar kontribusi jangka panjang (Customer Lifetime Value / CLV) dari setiap pelanggan mereka. Saat ini, strategi promosi dilakukan secara merata tanpa mempertimbangkan nilai pelanggan. Akibatnya, biaya marketing sering tidak efisien.\n",
    "\n",
    "### 🎯 Business Problem\n",
    "Perusahaan belum dapat mengidentifikasi pelanggan bernilai tinggi berdasarkan data historis mereka.\n",
    "\n",
    "### 🎯 Business Objective\n",
    "Membangun model machine learning untuk **memprediksi CLV** berdasarkan profil pelanggan, dengan tujuan:\n",
    "- Menentukan pelanggan dengan kontribusi jangka panjang tertinggi.  \n",
    "- Menjadi dasar keputusan **alokasi anggaran marketing** yang lebih efisien.  \n",
    "- Membantu strategi **retensi pelanggan bernilai tinggi**.\n",
    "\n",
    "### 👥 Stakeholder\n",
    "- **Marketing Team:** Mengatur alokasi promosi berdasarkan prediksi CLV.  \n",
    "- **Customer Relationship Team:** Menentukan prioritas layanan pelanggan bernilai tinggi.  \n",
    "- **Manajemen:** Membuat keputusan strategis berbasis prediksi CLV pelanggan."
   ]
  },
  {
   "cell_type": "code",
   "execution_count": 27,
   "id": "b83d714a",
   "metadata": {},
   "outputs": [],
   "source": [
    "# Import Library\n",
    "\n",
    "import pandas as pd\n",
    "import numpy as np\n",
    "import matplotlib.pyplot as plt\n",
    "from sklearn.model_selection import train_test_split, GridSearchCV\n",
    "from sklearn.preprocessing import StandardScaler, OneHotEncoder\n",
    "from sklearn.compose import ColumnTransformer\n",
    "from sklearn.pipeline import Pipeline\n",
    "from sklearn.linear_model import LinearRegression\n",
    "from sklearn.ensemble import RandomForestRegressor\n",
    "from sklearn.metrics import mean_absolute_error, mean_squared_error, r2_score\n",
    "import pickle\n",
    "import os"
   ]
  },
  {
   "cell_type": "markdown",
   "id": "f9d92262",
   "metadata": {},
   "source": [
    "### 📊 Data Understanding\n",
    "Dataset yang digunakan adalah *Customer Lifetime Value Dataset*, terdiri dari 11 kolom dan 5.669 baris.  \n",
    "Setiap baris mewakili **satu pelanggan**, dengan fitur-fitur seperti:\n",
    "- `Vehicle Class`, `Coverage`, `Education`, `Marital Status`, `EmploymentStatus` → variabel kategorikal  \n",
    "- `Number of Policies`, `Monthly Premium Auto`, `Total Claim Amount`, `Income` → variabel numerik  \n",
    "- `Customer Lifetime Value` → **target variabel (nilai yang diprediksi)**"
   ]
  },
  {
   "cell_type": "code",
   "execution_count": 28,
   "id": "d1dfe023",
   "metadata": {},
   "outputs": [
    {
     "data": {
      "text/html": [
       "<div>\n",
       "<style scoped>\n",
       "    .dataframe tbody tr th:only-of-type {\n",
       "        vertical-align: middle;\n",
       "    }\n",
       "\n",
       "    .dataframe tbody tr th {\n",
       "        vertical-align: top;\n",
       "    }\n",
       "\n",
       "    .dataframe thead th {\n",
       "        text-align: right;\n",
       "    }\n",
       "</style>\n",
       "<table border=\"1\" class=\"dataframe\">\n",
       "  <thead>\n",
       "    <tr style=\"text-align: right;\">\n",
       "      <th></th>\n",
       "      <th>Vehicle Class</th>\n",
       "      <th>Coverage</th>\n",
       "      <th>Renew Offer Type</th>\n",
       "      <th>EmploymentStatus</th>\n",
       "      <th>Marital Status</th>\n",
       "      <th>Education</th>\n",
       "      <th>Number of Policies</th>\n",
       "      <th>Monthly Premium Auto</th>\n",
       "      <th>Total Claim Amount</th>\n",
       "      <th>Income</th>\n",
       "      <th>Customer Lifetime Value</th>\n",
       "    </tr>\n",
       "  </thead>\n",
       "  <tbody>\n",
       "    <tr>\n",
       "      <th>0</th>\n",
       "      <td>Four-Door Car</td>\n",
       "      <td>Extended</td>\n",
       "      <td>Offer1</td>\n",
       "      <td>Retired</td>\n",
       "      <td>Divorced</td>\n",
       "      <td>High School or Below</td>\n",
       "      <td>2.0</td>\n",
       "      <td>90.0</td>\n",
       "      <td>571.479602</td>\n",
       "      <td>11828.0</td>\n",
       "      <td>10083.486880</td>\n",
       "    </tr>\n",
       "    <tr>\n",
       "      <th>1</th>\n",
       "      <td>Four-Door Car</td>\n",
       "      <td>Basic</td>\n",
       "      <td>Offer1</td>\n",
       "      <td>Employed</td>\n",
       "      <td>Married</td>\n",
       "      <td>College</td>\n",
       "      <td>6.0</td>\n",
       "      <td>62.0</td>\n",
       "      <td>114.514440</td>\n",
       "      <td>44762.0</td>\n",
       "      <td>4943.386117</td>\n",
       "    </tr>\n",
       "    <tr>\n",
       "      <th>2</th>\n",
       "      <td>Two-Door Car</td>\n",
       "      <td>Basic</td>\n",
       "      <td>Offer1</td>\n",
       "      <td>Retired</td>\n",
       "      <td>Married</td>\n",
       "      <td>Master</td>\n",
       "      <td>2.0</td>\n",
       "      <td>62.0</td>\n",
       "      <td>257.248789</td>\n",
       "      <td>21514.0</td>\n",
       "      <td>11981.984810</td>\n",
       "    </tr>\n",
       "    <tr>\n",
       "      <th>3</th>\n",
       "      <td>Four-Door Car</td>\n",
       "      <td>Premium</td>\n",
       "      <td>Offer3</td>\n",
       "      <td>Disabled</td>\n",
       "      <td>Married</td>\n",
       "      <td>High School or Below</td>\n",
       "      <td>1.0</td>\n",
       "      <td>116.0</td>\n",
       "      <td>556.800000</td>\n",
       "      <td>17913.0</td>\n",
       "      <td>4550.856045</td>\n",
       "    </tr>\n",
       "    <tr>\n",
       "      <th>4</th>\n",
       "      <td>Two-Door Car</td>\n",
       "      <td>Basic</td>\n",
       "      <td>Offer3</td>\n",
       "      <td>Medical Leave</td>\n",
       "      <td>Married</td>\n",
       "      <td>High School or Below</td>\n",
       "      <td>1.0</td>\n",
       "      <td>62.0</td>\n",
       "      <td>355.820799</td>\n",
       "      <td>19030.0</td>\n",
       "      <td>2372.155492</td>\n",
       "    </tr>\n",
       "  </tbody>\n",
       "</table>\n",
       "</div>"
      ],
      "text/plain": [
       "   Vehicle Class  Coverage Renew Offer Type EmploymentStatus Marital Status  \\\n",
       "0  Four-Door Car  Extended           Offer1          Retired       Divorced   \n",
       "1  Four-Door Car     Basic           Offer1         Employed        Married   \n",
       "2   Two-Door Car     Basic           Offer1          Retired        Married   \n",
       "3  Four-Door Car   Premium           Offer3         Disabled        Married   \n",
       "4   Two-Door Car     Basic           Offer3    Medical Leave        Married   \n",
       "\n",
       "              Education  Number of Policies  Monthly Premium Auto  \\\n",
       "0  High School or Below                 2.0                  90.0   \n",
       "1               College                 6.0                  62.0   \n",
       "2                Master                 2.0                  62.0   \n",
       "3  High School or Below                 1.0                 116.0   \n",
       "4  High School or Below                 1.0                  62.0   \n",
       "\n",
       "   Total Claim Amount   Income  Customer Lifetime Value  \n",
       "0          571.479602  11828.0             10083.486880  \n",
       "1          114.514440  44762.0              4943.386117  \n",
       "2          257.248789  21514.0             11981.984810  \n",
       "3          556.800000  17913.0              4550.856045  \n",
       "4          355.820799  19030.0              2372.155492  "
      ]
     },
     "execution_count": 28,
     "metadata": {},
     "output_type": "execute_result"
    }
   ],
   "source": [
    "# Load Data\n",
    "\n",
    "df = pd.read_csv('data_customer_lifetime_value.csv')\n",
    "df.head()"
   ]
  },
  {
   "cell_type": "markdown",
   "id": "a21c3e7a",
   "metadata": {},
   "source": [
    "## EDA"
   ]
  },
  {
   "cell_type": "code",
   "execution_count": 29,
   "id": "823fa69d",
   "metadata": {},
   "outputs": [
    {
     "name": "stdout",
     "output_type": "stream",
     "text": [
      "<class 'pandas.core.frame.DataFrame'>\n",
      "RangeIndex: 5669 entries, 0 to 5668\n",
      "Data columns (total 11 columns):\n",
      " #   Column                   Non-Null Count  Dtype  \n",
      "---  ------                   --------------  -----  \n",
      " 0   Vehicle Class            5669 non-null   object \n",
      " 1   Coverage                 5669 non-null   object \n",
      " 2   Renew Offer Type         5669 non-null   object \n",
      " 3   EmploymentStatus         5669 non-null   object \n",
      " 4   Marital Status           5669 non-null   object \n",
      " 5   Education                5669 non-null   object \n",
      " 6   Number of Policies       5669 non-null   float64\n",
      " 7   Monthly Premium Auto     5669 non-null   float64\n",
      " 8   Total Claim Amount       5669 non-null   float64\n",
      " 9   Income                   5669 non-null   float64\n",
      " 10  Customer Lifetime Value  5669 non-null   float64\n",
      "dtypes: float64(5), object(6)\n",
      "memory usage: 487.3+ KB\n"
     ]
    }
   ],
   "source": [
    "# Melihat informasi data\n",
    "# terdapat 2 type data object dan float\n",
    "# tidak ditemukan nilai null\n",
    "\n",
    "df.info()"
   ]
  },
  {
   "cell_type": "code",
   "execution_count": 30,
   "id": "823c0b22",
   "metadata": {},
   "outputs": [
    {
     "data": {
      "text/html": [
       "<div>\n",
       "<style scoped>\n",
       "    .dataframe tbody tr th:only-of-type {\n",
       "        vertical-align: middle;\n",
       "    }\n",
       "\n",
       "    .dataframe tbody tr th {\n",
       "        vertical-align: top;\n",
       "    }\n",
       "\n",
       "    .dataframe thead th {\n",
       "        text-align: right;\n",
       "    }\n",
       "</style>\n",
       "<table border=\"1\" class=\"dataframe\">\n",
       "  <thead>\n",
       "    <tr style=\"text-align: right;\">\n",
       "      <th></th>\n",
       "      <th>Number of Policies</th>\n",
       "      <th>Monthly Premium Auto</th>\n",
       "      <th>Total Claim Amount</th>\n",
       "      <th>Income</th>\n",
       "      <th>Customer Lifetime Value</th>\n",
       "    </tr>\n",
       "  </thead>\n",
       "  <tbody>\n",
       "    <tr>\n",
       "      <th>count</th>\n",
       "      <td>5669.000000</td>\n",
       "      <td>5669.000000</td>\n",
       "      <td>5669.000000</td>\n",
       "      <td>5669.000000</td>\n",
       "      <td>5669.000000</td>\n",
       "    </tr>\n",
       "    <tr>\n",
       "      <th>mean</th>\n",
       "      <td>2.979361</td>\n",
       "      <td>93.026989</td>\n",
       "      <td>431.407103</td>\n",
       "      <td>37868.188569</td>\n",
       "      <td>8029.874592</td>\n",
       "    </tr>\n",
       "    <tr>\n",
       "      <th>std</th>\n",
       "      <td>2.393187</td>\n",
       "      <td>34.551795</td>\n",
       "      <td>287.558038</td>\n",
       "      <td>30490.490723</td>\n",
       "      <td>6916.708246</td>\n",
       "    </tr>\n",
       "    <tr>\n",
       "      <th>min</th>\n",
       "      <td>1.000000</td>\n",
       "      <td>61.000000</td>\n",
       "      <td>0.423310</td>\n",
       "      <td>0.000000</td>\n",
       "      <td>1898.007675</td>\n",
       "    </tr>\n",
       "    <tr>\n",
       "      <th>25%</th>\n",
       "      <td>1.000000</td>\n",
       "      <td>68.000000</td>\n",
       "      <td>266.932542</td>\n",
       "      <td>0.000000</td>\n",
       "      <td>3954.344534</td>\n",
       "    </tr>\n",
       "    <tr>\n",
       "      <th>50%</th>\n",
       "      <td>2.000000</td>\n",
       "      <td>82.000000</td>\n",
       "      <td>379.200000</td>\n",
       "      <td>34322.000000</td>\n",
       "      <td>5800.188903</td>\n",
       "    </tr>\n",
       "    <tr>\n",
       "      <th>75%</th>\n",
       "      <td>4.000000</td>\n",
       "      <td>109.000000</td>\n",
       "      <td>549.986128</td>\n",
       "      <td>62464.000000</td>\n",
       "      <td>9031.214859</td>\n",
       "    </tr>\n",
       "    <tr>\n",
       "      <th>max</th>\n",
       "      <td>9.000000</td>\n",
       "      <td>297.000000</td>\n",
       "      <td>2759.794354</td>\n",
       "      <td>99934.000000</td>\n",
       "      <td>83325.381190</td>\n",
       "    </tr>\n",
       "  </tbody>\n",
       "</table>\n",
       "</div>"
      ],
      "text/plain": [
       "       Number of Policies  Monthly Premium Auto  Total Claim Amount  \\\n",
       "count         5669.000000           5669.000000         5669.000000   \n",
       "mean             2.979361             93.026989          431.407103   \n",
       "std              2.393187             34.551795          287.558038   \n",
       "min              1.000000             61.000000            0.423310   \n",
       "25%              1.000000             68.000000          266.932542   \n",
       "50%              2.000000             82.000000          379.200000   \n",
       "75%              4.000000            109.000000          549.986128   \n",
       "max              9.000000            297.000000         2759.794354   \n",
       "\n",
       "             Income  Customer Lifetime Value  \n",
       "count   5669.000000              5669.000000  \n",
       "mean   37868.188569              8029.874592  \n",
       "std    30490.490723              6916.708246  \n",
       "min        0.000000              1898.007675  \n",
       "25%        0.000000              3954.344534  \n",
       "50%    34322.000000              5800.188903  \n",
       "75%    62464.000000              9031.214859  \n",
       "max    99934.000000             83325.381190  "
      ]
     },
     "execution_count": 30,
     "metadata": {},
     "output_type": "execute_result"
    }
   ],
   "source": [
    "# melihat ringkasan statistik kolom data numerik\n",
    "\n",
    "df.describe()"
   ]
  },
  {
   "cell_type": "code",
   "execution_count": 31,
   "id": "20d786ee",
   "metadata": {},
   "outputs": [
    {
     "name": "stdout",
     "output_type": "stream",
     "text": [
      "\n",
      "Unique values (categorical cols):\n",
      "- Vehicle Class: 6 unique values\n",
      "- Coverage: 3 unique values\n",
      "- Renew Offer Type: 4 unique values\n",
      "- EmploymentStatus: 5 unique values\n",
      "- Marital Status: 3 unique values\n",
      "- Education: 5 unique values\n"
     ]
    }
   ],
   "source": [
    "# Melihat jumlah unique values pada kolom kategorikal\n",
    "\n",
    "print('\\nUnique values (categorical cols):')\n",
    "cat_cols = df.select_dtypes(include='object').columns.tolist()\n",
    "for c in cat_cols:\n",
    "    print(f\"- {c}: {df[c].nunique()} unique values\")"
   ]
  },
  {
   "cell_type": "code",
   "execution_count": 32,
   "id": "7fe418fe",
   "metadata": {},
   "outputs": [
    {
     "data": {
      "image/png": "[encoded data removed]",
      "text/plain": [
       "<Figure size 600x400 with 1 Axes>"
      ]
     },
     "metadata": {},
     "output_type": "display_data"
    }
   ],
   "source": [
    "# Mengetahui bentuk, sebaran, dan karakteristik nilai Customer Lifetime Value\n",
    "# Untuk menentukan strategi preprocessing dan interpretasi model dengan lebih tepat.\n",
    "\n",
    "plt.figure(figsize=(6,4))\n",
    "plt.hist(df['Customer Lifetime Value'], bins=50)\n",
    "plt.title('Distribution: Customer Lifetime Value')\n",
    "plt.xlabel('Customer Lifetime Value')\n",
    "plt.ylabel('Count')\n",
    "plt.show()"
   ]
  },
  {
   "cell_type": "code",
   "execution_count": 33,
   "id": "326ba611",
   "metadata": {},
   "outputs": [
    {
     "name": "stdout",
     "output_type": "stream",
     "text": [
      "Jumlah baris duplikat: 618\n",
      "Duplikat dihapus. Jumlah baris setelah pembersihan: 5051\n"
     ]
    }
   ],
   "source": [
    "# Cek baris duplikat\n",
    "duplicate_rows = df[df.duplicated()]\n",
    "print(f\"Jumlah baris duplikat: {duplicate_rows.shape[0]}\")\n",
    "\n",
    "# Jika ada duplikat dan ingin dihapus:\n",
    "if duplicate_rows.shape[0] > 0:\n",
    "    df = df.drop_duplicates().reset_index(drop=True)\n",
    "    print(\"Duplikat dihapus. Jumlah baris setelah pembersihan:\", df.shape[0])\n",
    "else:\n",
    "    print(\"Tidak ada duplikat yang ditemukan.\")\n"
   ]
  },
  {
   "cell_type": "markdown",
   "id": "da1f2ba9",
   "metadata": {},
   "source": [
    "## 🧹 Data Cleaning & Feature Engineering\n",
    "\n",
    "### 🧩 Data Cleaning\n",
    "- Tidak ada nilai null (dicek di EDA).\n",
    "- Baris duplikat sudah dibersihkan saat proses EDA   \n",
    "- Tipe data sudah dikategorikan (kategorikal sebagai object, numerik sebagai float).\n",
    "\n",
    "### 🧠 Feature Engineering & Preprocessing\n",
    "- Kategorikal di-encode menggunakan **OneHotEncoder** (untuk menghindari multikolinearitas).  \n",
    "- Variabel numerik discaling menggunakan **StandardScaler**.  \n",
    "- Semua preprocessing dibungkus dalam **ColumnTransformer** dan Pipeline agar tidak terjadi data leakage.\n"
   ]
  },
  {
   "cell_type": "code",
   "execution_count": 34,
   "id": "07e77978",
   "metadata": {},
   "outputs": [],
   "source": [
    "# Menentukan features\n",
    "target = 'Customer Lifetime Value'\n",
    "feature_cols = [c for c in df.columns if c != target]"
   ]
  },
  {
   "cell_type": "code",
   "execution_count": 35,
   "id": "bb0f8a7a",
   "metadata": {},
   "outputs": [
    {
     "data": {
      "text/plain": [
       "(['Number of Policies',\n",
       "  'Monthly Premium Auto',\n",
       "  'Total Claim Amount',\n",
       "  'Income'],\n",
       " ['Vehicle Class',\n",
       "  'Coverage',\n",
       "  'Renew Offer Type',\n",
       "  'EmploymentStatus',\n",
       "  'Marital Status',\n",
       "  'Education'])"
      ]
     },
     "execution_count": 35,
     "metadata": {},
     "output_type": "execute_result"
    }
   ],
   "source": [
    "# Identifikasi kolom Numerik dan kolom Kategorikal\n",
    "# Kita membagi kolom menjadi 2 kelompok kolom (kolom numerik dan kolok kategori)\n",
    "\n",
    "num_cols = df[feature_cols].select_dtypes(include=['int64','float64']).columns.tolist()\n",
    "cat_cols = df[feature_cols].select_dtypes(include=['object']).columns.tolist()\n",
    "\n",
    "num_cols, cat_cols"
   ]
  },
  {
   "cell_type": "code",
   "execution_count": 36,
   "id": "01b93db7",
   "metadata": {},
   "outputs": [],
   "source": [
    "# Membangun pipeline\n",
    "num_pipe = Pipeline([('scaler', StandardScaler())])\n",
    "cat_pipe = Pipeline([('ohe', OneHotEncoder(handle_unknown='ignore', drop='first'))])\n",
    "\n",
    "preprocessor = ColumnTransformer([\n",
    "    ('num', num_pipe, num_cols),\n",
    "    ('cat', cat_pipe, cat_cols)\n",
    "])"
   ]
  },
  {
   "cell_type": "code",
   "execution_count": 37,
   "id": "c5a1915c",
   "metadata": {},
   "outputs": [
    {
     "name": "stdout",
     "output_type": "stream",
     "text": [
      "Train shape: (4040, 10) Test shape: (1011, 10)\n"
     ]
    }
   ],
   "source": [
    "# Train-test split\n",
    "X = df[feature_cols]\n",
    "y = df[target]\n",
    "\n",
    "X_train, X_test, y_train, y_test = train_test_split(X, y, test_size=0.2, random_state=42)\n",
    "print('Train shape:', X_train.shape, 'Test shape:', X_test.shape)"
   ]
  },
  {
   "cell_type": "markdown",
   "id": "c7a0d6c0",
   "metadata": {},
   "source": [
    "## ⚙️ Analytics (Modeling & Evaluation)\n",
    "\n",
    "Model yang diuji:\n",
    "1. Linear Regression (baseline)\n",
    "2. Random Forest \n",
    "3. XGBoost \n",
    "\n",
    "Metrik evaluasi: **MAE, RMSE, R², MAPE**. Model terbaik dipilih berdasarkan RMSE terkecil.\n"
   ]
  },
  {
   "cell_type": "code",
   "execution_count": 38,
   "id": "0b875be1",
   "metadata": {},
   "outputs": [],
   "source": [
    "# --- MODELING & EVALUATION ---\n",
    "from math import sqrt\n",
    "\n",
    "def eval_regression(y_true, y_pred):\n",
    "    mae = mean_absolute_error(y_true, y_pred)\n",
    "    rmse = sqrt(mean_squared_error(y_true, y_pred))\n",
    "    r2 = r2_score(y_true, y_pred)\n",
    "    # MAPE: handle division by zero\n",
    "    mape = np.mean(np.abs((y_true - y_pred) / np.where(y_true==0, 1e-9, y_true))) * 100\n",
    "    return {'MAE': mae, 'RMSE': rmse, 'R2': r2, 'MAPE': mape}\n",
    "\n",
    "results = {}"
   ]
  },
  {
   "cell_type": "code",
   "execution_count": 39,
   "id": "bd703b29",
   "metadata": {},
   "outputs": [
    {
     "name": "stdout",
     "output_type": "stream",
     "text": [
      "Linear Regression evaluated\n"
     ]
    }
   ],
   "source": [
    "# 1) Linear Regression\n",
    "pipe_lr = Pipeline([('pre', preprocessor), ('model', LinearRegression())])\n",
    "pipe_lr.fit(X_train, y_train)\n",
    "pred_lr = pipe_lr.predict(X_test)\n",
    "results['LinearRegression'] = eval_regression(y_test, pred_lr)\n",
    "print('Linear Regression evaluated')"
   ]
  },
  {
   "cell_type": "code",
   "execution_count": 40,
   "id": "88d6b16e",
   "metadata": {},
   "outputs": [
    {
     "name": "stdout",
     "output_type": "stream",
     "text": [
      "Random Forest evaluated\n"
     ]
    }
   ],
   "source": [
    "# 2) Random Forest\n",
    "pipe_rf = Pipeline([('pre', preprocessor), ('model', RandomForestRegressor(random_state=42, n_jobs=-1))])\n",
    "pipe_rf.fit(X_train, y_train)\n",
    "pred_rf = pipe_rf.predict(X_test)\n",
    "results['RandomForest'] = eval_regression(y_test, pred_rf)\n",
    "print('Random Forest evaluated')"
   ]
  },
  {
   "cell_type": "code",
   "execution_count": 41,
   "id": "a4f5ff6e",
   "metadata": {},
   "outputs": [
    {
     "name": "stdout",
     "output_type": "stream",
     "text": [
      "XGBoost evaluated\n"
     ]
    }
   ],
   "source": [
    "# 3) XGBoost\n",
    "try:\n",
    "    from xgboost import XGBRegressor\n",
    "    pipe_xgb = Pipeline([('pre', preprocessor), ('model', XGBRegressor(objective='reg:squarederror', random_state=42, n_jobs=-1))])\n",
    "    pipe_xgb.fit(X_train, y_train)\n",
    "    pred_xgb = pipe_xgb.predict(X_test)\n",
    "    results['XGBoost'] = eval_regression(y_test, pred_xgb)\n",
    "    print('XGBoost evaluated')\n",
    "except Exception as e:\n",
    "    print('XGBoost not available or failed to run. Skipping XGBoost. Error:', e)"
   ]
  },
  {
   "cell_type": "code",
   "execution_count": 42,
   "id": "4c0982f9",
   "metadata": {},
   "outputs": [
    {
     "data": {
      "text/html": [
       "<div>\n",
       "<style scoped>\n",
       "    .dataframe tbody tr th:only-of-type {\n",
       "        vertical-align: middle;\n",
       "    }\n",
       "\n",
       "    .dataframe tbody tr th {\n",
       "        vertical-align: top;\n",
       "    }\n",
       "\n",
       "    .dataframe thead th {\n",
       "        text-align: right;\n",
       "    }\n",
       "</style>\n",
       "<table border=\"1\" class=\"dataframe\">\n",
       "  <thead>\n",
       "    <tr style=\"text-align: right;\">\n",
       "      <th></th>\n",
       "      <th>MAE</th>\n",
       "      <th>RMSE</th>\n",
       "      <th>R2</th>\n",
       "      <th>MAPE</th>\n",
       "    </tr>\n",
       "  </thead>\n",
       "  <tbody>\n",
       "    <tr>\n",
       "      <th>LinearRegression</th>\n",
       "      <td>3857.996601</td>\n",
       "      <td>6340.553847</td>\n",
       "      <td>0.155354</td>\n",
       "      <td>62.505519</td>\n",
       "    </tr>\n",
       "    <tr>\n",
       "      <th>RandomForest</th>\n",
       "      <td>1630.591165</td>\n",
       "      <td>4087.055124</td>\n",
       "      <td>0.649053</td>\n",
       "      <td>12.666555</td>\n",
       "    </tr>\n",
       "    <tr>\n",
       "      <th>XGBoost</th>\n",
       "      <td>2004.784079</td>\n",
       "      <td>4160.328001</td>\n",
       "      <td>0.636357</td>\n",
       "      <td>21.995609</td>\n",
       "    </tr>\n",
       "  </tbody>\n",
       "</table>\n",
       "</div>"
      ],
      "text/plain": [
       "                          MAE         RMSE        R2       MAPE\n",
       "LinearRegression  3857.996601  6340.553847  0.155354  62.505519\n",
       "RandomForest      1630.591165  4087.055124  0.649053  12.666555\n",
       "XGBoost           2004.784079  4160.328001  0.636357  21.995609"
      ]
     },
     "execution_count": 42,
     "metadata": {},
     "output_type": "execute_result"
    }
   ],
   "source": [
    "# Hasil\n",
    "res_df = pd.DataFrame(results).T\n",
    "res_df = res_df[['MAE','RMSE','R2','MAPE']]\n",
    "res_df"
   ]
  },
  {
   "cell_type": "code",
   "execution_count": 43,
   "id": "16fb4bcf",
   "metadata": {},
   "outputs": [
    {
     "name": "stdout",
     "output_type": "stream",
     "text": [
      "Best model: RandomForest\n"
     ]
    }
   ],
   "source": [
    "# Pilih model terbaik dengan RMSE terendah\n",
    "best_model_name = res_df['RMSE'].idxmin()\n",
    "print('Best model:', best_model_name)\n",
    "\n",
    "if best_model_name == 'LinearRegression':\n",
    "    best_pipe = pipe_lr\n",
    "elif best_model_name == 'RandomForest':\n",
    "    best_pipe = pipe_rf\n",
    "elif best_model_name == 'XGBoost':\n",
    "    best_pipe = pipe_xgb\n",
    "else:\n",
    "    best_pipe = pipe_rf"
   ]
  },
  {
   "cell_type": "code",
   "execution_count": 44,
   "id": "405a051b",
   "metadata": {},
   "outputs": [
    {
     "data": {
      "text/plain": [
       "['model_capstone_project_modul3.pkl']"
      ]
     },
     "execution_count": 44,
     "metadata": {},
     "output_type": "execute_result"
    }
   ],
   "source": [
    "# setelah kita mendaatkan model RandomForest sebagai model terbaik, kita simpan model RandomForest\n",
    "\n",
    "import joblib\n",
    "\n",
    "# Kita simpan model di folder yang sama dengan file CSV\n",
    "joblib.dump(pipe_rf, 'model_capstone_project_modul3.pkl')\n",
    "\n",
    "# print(\"Model berhasil disimpan di folder yang sama dengan dataset kamu.\")\n"
   ]
  },
  {
   "cell_type": "code",
   "execution_count": 45,
   "id": "ee1550ba",
   "metadata": {},
   "outputs": [],
   "source": [
    "# model dikompres ke bentuk lzma karna bentuk pkl terlalu besar\n",
    "\n",
    "import compress_pickle as cpkl\n",
    "\n",
    "cpkl.dump(pipe_rf, 'model_capstone_project_modul3.pkl.lzma', compression='lzma')\n"
   ]
  },
  {
   "cell_type": "markdown",
   "id": "89c4e961",
   "metadata": {},
   "source": [
    "## 🌟 Feature Importance\n",
    "- Pada bagian ini kita akan melihat seberapa besar pengaruh setiap fitur terhadap prediksi CLV\n",
    "- Dengan kata lain kita akan megetahui fitur mana yang paling berperan dalam menentukan CLV pelanggan"
   ]
  },
  {
   "cell_type": "code",
   "execution_count": 46,
   "id": "37c55497",
   "metadata": {},
   "outputs": [
    {
     "data": {
      "text/html": [
       "<div>\n",
       "<style scoped>\n",
       "    .dataframe tbody tr th:only-of-type {\n",
       "        vertical-align: middle;\n",
       "    }\n",
       "\n",
       "    .dataframe tbody tr th {\n",
       "        vertical-align: top;\n",
       "    }\n",
       "\n",
       "    .dataframe thead th {\n",
       "        text-align: right;\n",
       "    }\n",
       "</style>\n",
       "<table border=\"1\" class=\"dataframe\">\n",
       "  <thead>\n",
       "    <tr style=\"text-align: right;\">\n",
       "      <th></th>\n",
       "      <th>feature</th>\n",
       "      <th>importance</th>\n",
       "    </tr>\n",
       "  </thead>\n",
       "  <tbody>\n",
       "    <tr>\n",
       "      <th>0</th>\n",
       "      <td>Number of Policies</td>\n",
       "      <td>0.471979</td>\n",
       "    </tr>\n",
       "    <tr>\n",
       "      <th>1</th>\n",
       "      <td>Monthly Premium Auto</td>\n",
       "      <td>0.290375</td>\n",
       "    </tr>\n",
       "    <tr>\n",
       "      <th>2</th>\n",
       "      <td>Total Claim Amount</td>\n",
       "      <td>0.071771</td>\n",
       "    </tr>\n",
       "    <tr>\n",
       "      <th>3</th>\n",
       "      <td>Income</td>\n",
       "      <td>0.060747</td>\n",
       "    </tr>\n",
       "    <tr>\n",
       "      <th>4</th>\n",
       "      <td>Education_High School or Below</td>\n",
       "      <td>0.011716</td>\n",
       "    </tr>\n",
       "    <tr>\n",
       "      <th>5</th>\n",
       "      <td>Renew Offer Type_Offer2</td>\n",
       "      <td>0.010329</td>\n",
       "    </tr>\n",
       "    <tr>\n",
       "      <th>6</th>\n",
       "      <td>Education_College</td>\n",
       "      <td>0.009070</td>\n",
       "    </tr>\n",
       "    <tr>\n",
       "      <th>7</th>\n",
       "      <td>Marital Status_Married</td>\n",
       "      <td>0.008410</td>\n",
       "    </tr>\n",
       "    <tr>\n",
       "      <th>8</th>\n",
       "      <td>Renew Offer Type_Offer4</td>\n",
       "      <td>0.008236</td>\n",
       "    </tr>\n",
       "    <tr>\n",
       "      <th>9</th>\n",
       "      <td>Marital Status_Single</td>\n",
       "      <td>0.007927</td>\n",
       "    </tr>\n",
       "    <tr>\n",
       "      <th>10</th>\n",
       "      <td>Renew Offer Type_Offer3</td>\n",
       "      <td>0.006746</td>\n",
       "    </tr>\n",
       "    <tr>\n",
       "      <th>11</th>\n",
       "      <td>Education_Master</td>\n",
       "      <td>0.005200</td>\n",
       "    </tr>\n",
       "    <tr>\n",
       "      <th>12</th>\n",
       "      <td>Vehicle Class_Two-Door Car</td>\n",
       "      <td>0.004614</td>\n",
       "    </tr>\n",
       "    <tr>\n",
       "      <th>13</th>\n",
       "      <td>EmploymentStatus_Employed</td>\n",
       "      <td>0.004400</td>\n",
       "    </tr>\n",
       "    <tr>\n",
       "      <th>14</th>\n",
       "      <td>Vehicle Class_Sports Car</td>\n",
       "      <td>0.004241</td>\n",
       "    </tr>\n",
       "    <tr>\n",
       "      <th>15</th>\n",
       "      <td>EmploymentStatus_Medical Leave</td>\n",
       "      <td>0.003989</td>\n",
       "    </tr>\n",
       "    <tr>\n",
       "      <th>16</th>\n",
       "      <td>Coverage_Premium</td>\n",
       "      <td>0.003151</td>\n",
       "    </tr>\n",
       "    <tr>\n",
       "      <th>17</th>\n",
       "      <td>Education_Doctor</td>\n",
       "      <td>0.003014</td>\n",
       "    </tr>\n",
       "    <tr>\n",
       "      <th>18</th>\n",
       "      <td>Coverage_Extended</td>\n",
       "      <td>0.003005</td>\n",
       "    </tr>\n",
       "    <tr>\n",
       "      <th>19</th>\n",
       "      <td>EmploymentStatus_Unemployed</td>\n",
       "      <td>0.002874</td>\n",
       "    </tr>\n",
       "  </tbody>\n",
       "</table>\n",
       "</div>"
      ],
      "text/plain": [
       "                           feature  importance\n",
       "0               Number of Policies    0.471979\n",
       "1             Monthly Premium Auto    0.290375\n",
       "2               Total Claim Amount    0.071771\n",
       "3                           Income    0.060747\n",
       "4   Education_High School or Below    0.011716\n",
       "5          Renew Offer Type_Offer2    0.010329\n",
       "6                Education_College    0.009070\n",
       "7           Marital Status_Married    0.008410\n",
       "8          Renew Offer Type_Offer4    0.008236\n",
       "9            Marital Status_Single    0.007927\n",
       "10         Renew Offer Type_Offer3    0.006746\n",
       "11                Education_Master    0.005200\n",
       "12      Vehicle Class_Two-Door Car    0.004614\n",
       "13       EmploymentStatus_Employed    0.004400\n",
       "14        Vehicle Class_Sports Car    0.004241\n",
       "15  EmploymentStatus_Medical Leave    0.003989\n",
       "16                Coverage_Premium    0.003151\n",
       "17                Education_Doctor    0.003014\n",
       "18               Coverage_Extended    0.003005\n",
       "19     EmploymentStatus_Unemployed    0.002874"
      ]
     },
     "execution_count": 46,
     "metadata": {},
     "output_type": "execute_result"
    }
   ],
   "source": [
    "# Kita extract fitur yang sudah kita proses pada pipeline sebelumnya\n",
    "from sklearn.inspection import permutation_importance\n",
    "\n",
    "# Ambil model RandomForest yang sudah dilatih di pipeline sebelumnya\n",
    "rf_for_feat = pipe_rf   # model yang sudah di latih pada tahap sebelumnya\n",
    "\n",
    "# Ambil nama fitur setelah melalui proses preprocessing\n",
    "# numeric feature names - nama dari fitur numerik\n",
    "num_features = num_cols\n",
    "# onehot feature names → nama fitur kategori yang sudah diubah jadi dummy variables lewat OneHotEncoder\n",
    "ohe = preprocessor.named_transformers_['cat'].named_steps['ohe']\n",
    "ohe_features = []\n",
    "try:\n",
    "    # Untuk versi sklearn >= 1.0, gunakan get_feature_names_out\n",
    "    ohe_features = list(ohe.get_feature_names_out(cat_cols))\n",
    "except:\n",
    "    # Untuk versi sklearn < 1.0, gunakan get_feature_names\n",
    "    ohe_features = list(ohe.get_feature_names(cat_cols))\n",
    "\n",
    "# Menggabungkan seluruh nama fitur numerik dan kategori yang sudah di-encode\n",
    "feature_names = list(num_features) + ohe_features\n",
    "\n",
    "# Mengambil nilai pentingnya masing-masing fitur dari model Random Forest\n",
    "importances = rf_for_feat.named_steps['model'].feature_importances_\n",
    "\n",
    "# Membuat DataFrame agar lebih mudah dibaca dan diurutkan\n",
    "feat_imp_df = pd.DataFrame({'feature': feature_names, 'importance': importances})\n",
    "feat_imp_df = feat_imp_df.sort_values('importance', ascending=False).reset_index(drop=True)\n",
    "\n",
    "# Menampilkan 20 fitur teratas berdasarkan tingkat kepentingan\n",
    "feat_imp_df.head(20)"
   ]
  },
  {
   "cell_type": "code",
   "execution_count": 47,
   "id": "2480b549",
   "metadata": {},
   "outputs": [
    {
     "data": {
      "image/png": "[encoded data removed]",
      "text/plain": [
       "<Figure size 800x600 with 1 Axes>"
      ]
     },
     "metadata": {},
     "output_type": "display_data"
    }
   ],
   "source": [
    "# Viualisasi 10 fitur paling berpengaruh\n",
    "\n",
    "plt.figure(figsize=(8,6))\n",
    "plt.barh(feat_imp_df['feature'].head(10)[::-1], feat_imp_df['importance'].head(10)[::-1])\n",
    "plt.xlabel('Importance')\n",
    "plt.title('Top 10 Feature Importances (Random Forest)')\n",
    "plt.tight_layout()\n",
    "plt.show()"
   ]
  },
  {
   "cell_type": "markdown",
   "id": "b6f584c3",
   "metadata": {},
   "source": [
    "## 📈 Predicted vs Actual CLV\n",
    "Visualisasi perbandingan prediksi model vs nilai aktual untuk mengevaluasi bias dan penyebaran error.\n"
   ]
  },
  {
   "cell_type": "code",
   "execution_count": 48,
   "id": "db9e0e18",
   "metadata": {},
   "outputs": [
    {
     "data": {
      "image/png": "[encoded data removed]",
      "text/plain": [
       "<Figure size 600x600 with 1 Axes>"
      ]
     },
     "metadata": {},
     "output_type": "display_data"
    }
   ],
   "source": [
    "# Visualisasi perbandingan CLV yang sudah diprediksi\n",
    "# Kita akan menggunakan pipeline terbaik RandomForest sebagai pembanding\n",
    "y_pred_best = best_pipe.predict(X_test)\n",
    "\n",
    "plt.figure(figsize=(6,6))\n",
    "plt.scatter(y_test, y_pred_best, alpha=0.6)\n",
    "plt.plot([y_test.min(), y_test.max()], [y_test.min(), y_test.max()], linestyle='--')\n",
    "plt.xlabel('Actual Customer Lifetime Value')\n",
    "plt.ylabel('Predicted Customer Lifetime Value')\n",
    "plt.title('Predicted vs Actual CLV')\n",
    "plt.tight_layout()\n",
    "plt.show()\n"
   ]
  },
  {
   "cell_type": "markdown",
   "id": "2605d87b",
   "metadata": {},
   "source": [
    "## 🧭 Kesimpulan dan Rekomendasi\n",
    "\n",
    "### 📌 Conclusion\n",
    "Model terbaik yang dibangun adalah **Random Forest** (jika dilihat berdasarkan RMSE), dengan performa terbaik berdasarkan metrik evaluasi. Model mampu memprediksi nilai CLV pelanggan dengan akurasi yang dapat digunakan untuk keperluan segmentasi dan alokasi anggaran marketing.\n",
    "\n",
    "### 💡 Recommendation\n",
    "- Gunakan model ini untuk mengidentifikasi pelanggan bernilai tinggi dan tawarkan program loyalitas atau promo eksklusif.\n",
    "- Lakukan update model secara berkala untuk mempertahankan akurasi prediksi.\n",
    "- Gunakan hasil prediksi CLV untuk segmentasi pelanggan berbasis profitabilitas.\n",
    "\n",
    "### ⚠️ Limitasi\n",
    "- Dataset tidak mencakup data perilaku waktu (transaction frequency), sehingga pendekatan probabilistik seperti BG/NBD belum dapat diterapkan.\n",
    "- Model hanya berlaku untuk populasi data dengan karakteristik serupa (domain asuransi).\n",
    "\n",
    "### 🚀 Next Improvement\n",
    "- Menambahkan data perilaku waktu (misal: tanggal transaksi, waktu transaksi).\n"
   ]
  }
 ],
 "metadata": {
  "kernelspec": {
   "display_name": "Python 3",
   "language": "python",
   "name": "python3"
  },
  "language_info": {
   "codemirror_mode": {
    "name": "ipython",
    "version": 3
   },
   "file_extension": ".py",
   "mimetype": "text/x-python",
   "name": "python",
   "nbconvert_exporter": "python",
   "pygments_lexer": "ipython3",
   "version": "3.9.13"
  }
 },
 "nbformat": 4,
 "nbformat_minor": 5
}
